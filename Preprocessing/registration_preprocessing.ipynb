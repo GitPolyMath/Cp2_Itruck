{
  "nbformat": 4,
  "nbformat_minor": 0,
  "metadata": {
    "colab": {
      "provenance": []
    },
    "kernelspec": {
      "name": "python3",
      "display_name": "Python 3"
    },
    "language_info": {
      "name": "python"
    }
  },
  "cells": [
    {
      "cell_type": "code",
      "execution_count": null,
      "metadata": {
        "id": "447SIPcoN3GV"
      },
      "outputs": [],
      "source": []
    },
    {
      "cell_type": "code",
      "source": [
        "from google.colab import drive\n",
        "drive.mount('/content/drive')"
      ],
      "metadata": {
        "colab": {
          "base_uri": "https://localhost:8080/",
          "height": 337
        },
        "id": "eBLgSdVsPJ25",
        "outputId": "9a81aa96-96f3-4329-ca75-9e2927248d1b"
      },
      "execution_count": null,
      "outputs": [
        {
          "output_type": "error",
          "ename": "KeyboardInterrupt",
          "evalue": "ignored",
          "traceback": [
            "\u001b[0;31m---------------------------------------------------------------------------\u001b[0m",
            "\u001b[0;31mKeyboardInterrupt\u001b[0m                         Traceback (most recent call last)",
            "\u001b[0;32m<ipython-input-1-d5df0069828e>\u001b[0m in \u001b[0;36m<module>\u001b[0;34m\u001b[0m\n\u001b[1;32m      1\u001b[0m \u001b[0;32mfrom\u001b[0m \u001b[0mgoogle\u001b[0m\u001b[0;34m.\u001b[0m\u001b[0mcolab\u001b[0m \u001b[0;32mimport\u001b[0m \u001b[0mdrive\u001b[0m\u001b[0;34m\u001b[0m\u001b[0;34m\u001b[0m\u001b[0m\n\u001b[0;32m----> 2\u001b[0;31m \u001b[0mdrive\u001b[0m\u001b[0;34m.\u001b[0m\u001b[0mmount\u001b[0m\u001b[0;34m(\u001b[0m\u001b[0;34m'/content/drive'\u001b[0m\u001b[0;34m)\u001b[0m\u001b[0;34m\u001b[0m\u001b[0;34m\u001b[0m\u001b[0m\n\u001b[0m",
            "\u001b[0;32m/usr/local/lib/python3.7/dist-packages/google/colab/drive.py\u001b[0m in \u001b[0;36mmount\u001b[0;34m(mountpoint, force_remount, timeout_ms)\u001b[0m\n\u001b[1;32m    103\u001b[0m       \u001b[0mforce_remount\u001b[0m\u001b[0;34m=\u001b[0m\u001b[0mforce_remount\u001b[0m\u001b[0;34m,\u001b[0m\u001b[0;34m\u001b[0m\u001b[0;34m\u001b[0m\u001b[0m\n\u001b[1;32m    104\u001b[0m       \u001b[0mtimeout_ms\u001b[0m\u001b[0;34m=\u001b[0m\u001b[0mtimeout_ms\u001b[0m\u001b[0;34m,\u001b[0m\u001b[0;34m\u001b[0m\u001b[0;34m\u001b[0m\u001b[0m\n\u001b[0;32m--> 105\u001b[0;31m       ephemeral=True)\n\u001b[0m\u001b[1;32m    106\u001b[0m \u001b[0;34m\u001b[0m\u001b[0m\n\u001b[1;32m    107\u001b[0m \u001b[0;34m\u001b[0m\u001b[0m\n",
            "\u001b[0;32m/usr/local/lib/python3.7/dist-packages/google/colab/drive.py\u001b[0m in \u001b[0;36m_mount\u001b[0;34m(mountpoint, force_remount, timeout_ms, ephemeral)\u001b[0m\n\u001b[1;32m    118\u001b[0m   \u001b[0;32mif\u001b[0m \u001b[0mephemeral\u001b[0m\u001b[0;34m:\u001b[0m\u001b[0;34m\u001b[0m\u001b[0;34m\u001b[0m\u001b[0m\n\u001b[1;32m    119\u001b[0m     _message.blocking_request(\n\u001b[0;32m--> 120\u001b[0;31m         'request_auth', request={'authType': 'dfs_ephemeral'}, timeout_sec=None)\n\u001b[0m\u001b[1;32m    121\u001b[0m \u001b[0;34m\u001b[0m\u001b[0m\n\u001b[1;32m    122\u001b[0m   \u001b[0mmountpoint\u001b[0m \u001b[0;34m=\u001b[0m \u001b[0m_os\u001b[0m\u001b[0;34m.\u001b[0m\u001b[0mpath\u001b[0m\u001b[0;34m.\u001b[0m\u001b[0mexpanduser\u001b[0m\u001b[0;34m(\u001b[0m\u001b[0mmountpoint\u001b[0m\u001b[0;34m)\u001b[0m\u001b[0;34m\u001b[0m\u001b[0;34m\u001b[0m\u001b[0m\n",
            "\u001b[0;32m/usr/local/lib/python3.7/dist-packages/google/colab/_message.py\u001b[0m in \u001b[0;36mblocking_request\u001b[0;34m(request_type, request, timeout_sec, parent)\u001b[0m\n\u001b[1;32m    169\u001b[0m   request_id = send_request(\n\u001b[1;32m    170\u001b[0m       request_type, request, parent=parent, expect_reply=True)\n\u001b[0;32m--> 171\u001b[0;31m   \u001b[0;32mreturn\u001b[0m \u001b[0mread_reply_from_input\u001b[0m\u001b[0;34m(\u001b[0m\u001b[0mrequest_id\u001b[0m\u001b[0;34m,\u001b[0m \u001b[0mtimeout_sec\u001b[0m\u001b[0;34m)\u001b[0m\u001b[0;34m\u001b[0m\u001b[0;34m\u001b[0m\u001b[0m\n\u001b[0m",
            "\u001b[0;32m/usr/local/lib/python3.7/dist-packages/google/colab/_message.py\u001b[0m in \u001b[0;36mread_reply_from_input\u001b[0;34m(message_id, timeout_sec)\u001b[0m\n\u001b[1;32m     95\u001b[0m     \u001b[0mreply\u001b[0m \u001b[0;34m=\u001b[0m \u001b[0m_read_next_input_message\u001b[0m\u001b[0;34m(\u001b[0m\u001b[0;34m)\u001b[0m\u001b[0;34m\u001b[0m\u001b[0;34m\u001b[0m\u001b[0m\n\u001b[1;32m     96\u001b[0m     \u001b[0;32mif\u001b[0m \u001b[0mreply\u001b[0m \u001b[0;34m==\u001b[0m \u001b[0m_NOT_READY\u001b[0m \u001b[0;32mor\u001b[0m \u001b[0;32mnot\u001b[0m \u001b[0misinstance\u001b[0m\u001b[0;34m(\u001b[0m\u001b[0mreply\u001b[0m\u001b[0;34m,\u001b[0m \u001b[0mdict\u001b[0m\u001b[0;34m)\u001b[0m\u001b[0;34m:\u001b[0m\u001b[0;34m\u001b[0m\u001b[0;34m\u001b[0m\u001b[0m\n\u001b[0;32m---> 97\u001b[0;31m       \u001b[0mtime\u001b[0m\u001b[0;34m.\u001b[0m\u001b[0msleep\u001b[0m\u001b[0;34m(\u001b[0m\u001b[0;36m0.025\u001b[0m\u001b[0;34m)\u001b[0m\u001b[0;34m\u001b[0m\u001b[0;34m\u001b[0m\u001b[0m\n\u001b[0m\u001b[1;32m     98\u001b[0m       \u001b[0;32mcontinue\u001b[0m\u001b[0;34m\u001b[0m\u001b[0;34m\u001b[0m\u001b[0m\n\u001b[1;32m     99\u001b[0m     if (reply.get('type') == 'colab_reply' and\n",
            "\u001b[0;31mKeyboardInterrupt\u001b[0m: "
          ]
        }
      ]
    },
    {
      "cell_type": "code",
      "source": [
        "import pandas as pd"
      ],
      "metadata": {
        "id": "Cr1Gg0Y2Q2UM"
      },
      "execution_count": null,
      "outputs": []
    },
    {
      "cell_type": "code",
      "source": [
        "# 데이터 불러오기\n",
        "df = pd.read_csv('/content/drive/MyDrive/cp2/영업용화물차량등록현황.csv',index_col=0)\n",
        "df.head()"
      ],
      "metadata": {
        "colab": {
          "base_uri": "https://localhost:8080/",
          "height": 525
        },
        "id": "mISlIRcqQvd-",
        "outputId": "828dfdf1-a34e-4211-f447-e0414bfa2863"
      },
      "execution_count": null,
      "outputs": [
        {
          "output_type": "execute_result",
          "data": {
            "text/plain": [
              "           날짜      총계   승용차합계  승용일반형 계  승용일반형 국산 소계  승용일반형 국산 800CC미만  \\\n",
              "0  2002-01-01  672958  287490   282975       282811               280   \n",
              "1  2002-02-01  676325  288372   283724       283556               284   \n",
              "2  2002-03-01  681800  290012   285202       285026               289   \n",
              "3  2002-04-01  686971  291520   286374       286190               293   \n",
              "4  2002-05-01  693690  294273   288783       288595               282   \n",
              "\n",
              "   승용일반형 국산 1000CC미만  승용일반형 국산 1500CC미만  승용일반형 국산 2000CC미만  승용일반형 국산 2500CC미만  \\\n",
              "0                  2               7767             252615               8872   \n",
              "1                  2               7793             252962               8889   \n",
              "2                  2               7776             253795               8832   \n",
              "3                  3               7866             253940               8738   \n",
              "4                  3               7896             255063               8656   \n",
              "\n",
              "   ...  화물특수용도형(노면청소차)  화물특수용도형(곡물,사료운반)  특수용도형 계  특수용도형(고소작업차)  \\\n",
              "0  ...             NaN               NaN      NaN           NaN   \n",
              "1  ...             NaN               NaN      NaN           NaN   \n",
              "2  ...             NaN               NaN      NaN           NaN   \n",
              "3  ...             NaN               NaN      NaN           NaN   \n",
              "4  ...             NaN               NaN      NaN           NaN   \n",
              "\n",
              "   특수용도형(고가사다리소방차)  특수용도형(오가크레인)  특수용도형(피견인형)  특수용도형(기타)  특수작업형(피견인형)  \\\n",
              "0              NaN           NaN          NaN        NaN          NaN   \n",
              "1              NaN           NaN          NaN        NaN          NaN   \n",
              "2              NaN           NaN          NaN        NaN          NaN   \n",
              "3              NaN           NaN          NaN        NaN          NaN   \n",
              "4              NaN           NaN          NaN        NaN          NaN   \n",
              "\n",
              "   화물특수용도형(청소차)  \n",
              "0           NaN  \n",
              "1           NaN  \n",
              "2           NaN  \n",
              "3           NaN  \n",
              "4           NaN  \n",
              "\n",
              "[5 rows x 153 columns]"
            ],
            "text/html": [
              "\n",
              "  <div id=\"df-6aa815d2-1bee-4fc3-a3ca-7cd316d2f622\">\n",
              "    <div class=\"colab-df-container\">\n",
              "      <div>\n",
              "<style scoped>\n",
              "    .dataframe tbody tr th:only-of-type {\n",
              "        vertical-align: middle;\n",
              "    }\n",
              "\n",
              "    .dataframe tbody tr th {\n",
              "        vertical-align: top;\n",
              "    }\n",
              "\n",
              "    .dataframe thead th {\n",
              "        text-align: right;\n",
              "    }\n",
              "</style>\n",
              "<table border=\"1\" class=\"dataframe\">\n",
              "  <thead>\n",
              "    <tr style=\"text-align: right;\">\n",
              "      <th></th>\n",
              "      <th>날짜</th>\n",
              "      <th>총계</th>\n",
              "      <th>승용차합계</th>\n",
              "      <th>승용일반형 계</th>\n",
              "      <th>승용일반형 국산 소계</th>\n",
              "      <th>승용일반형 국산 800CC미만</th>\n",
              "      <th>승용일반형 국산 1000CC미만</th>\n",
              "      <th>승용일반형 국산 1500CC미만</th>\n",
              "      <th>승용일반형 국산 2000CC미만</th>\n",
              "      <th>승용일반형 국산 2500CC미만</th>\n",
              "      <th>...</th>\n",
              "      <th>화물특수용도형(노면청소차)</th>\n",
              "      <th>화물특수용도형(곡물,사료운반)</th>\n",
              "      <th>특수용도형 계</th>\n",
              "      <th>특수용도형(고소작업차)</th>\n",
              "      <th>특수용도형(고가사다리소방차)</th>\n",
              "      <th>특수용도형(오가크레인)</th>\n",
              "      <th>특수용도형(피견인형)</th>\n",
              "      <th>특수용도형(기타)</th>\n",
              "      <th>특수작업형(피견인형)</th>\n",
              "      <th>화물특수용도형(청소차)</th>\n",
              "    </tr>\n",
              "  </thead>\n",
              "  <tbody>\n",
              "    <tr>\n",
              "      <th>0</th>\n",
              "      <td>2002-01-01</td>\n",
              "      <td>672958</td>\n",
              "      <td>287490</td>\n",
              "      <td>282975</td>\n",
              "      <td>282811</td>\n",
              "      <td>280</td>\n",
              "      <td>2</td>\n",
              "      <td>7767</td>\n",
              "      <td>252615</td>\n",
              "      <td>8872</td>\n",
              "      <td>...</td>\n",
              "      <td>NaN</td>\n",
              "      <td>NaN</td>\n",
              "      <td>NaN</td>\n",
              "      <td>NaN</td>\n",
              "      <td>NaN</td>\n",
              "      <td>NaN</td>\n",
              "      <td>NaN</td>\n",
              "      <td>NaN</td>\n",
              "      <td>NaN</td>\n",
              "      <td>NaN</td>\n",
              "    </tr>\n",
              "    <tr>\n",
              "      <th>1</th>\n",
              "      <td>2002-02-01</td>\n",
              "      <td>676325</td>\n",
              "      <td>288372</td>\n",
              "      <td>283724</td>\n",
              "      <td>283556</td>\n",
              "      <td>284</td>\n",
              "      <td>2</td>\n",
              "      <td>7793</td>\n",
              "      <td>252962</td>\n",
              "      <td>8889</td>\n",
              "      <td>...</td>\n",
              "      <td>NaN</td>\n",
              "      <td>NaN</td>\n",
              "      <td>NaN</td>\n",
              "      <td>NaN</td>\n",
              "      <td>NaN</td>\n",
              "      <td>NaN</td>\n",
              "      <td>NaN</td>\n",
              "      <td>NaN</td>\n",
              "      <td>NaN</td>\n",
              "      <td>NaN</td>\n",
              "    </tr>\n",
              "    <tr>\n",
              "      <th>2</th>\n",
              "      <td>2002-03-01</td>\n",
              "      <td>681800</td>\n",
              "      <td>290012</td>\n",
              "      <td>285202</td>\n",
              "      <td>285026</td>\n",
              "      <td>289</td>\n",
              "      <td>2</td>\n",
              "      <td>7776</td>\n",
              "      <td>253795</td>\n",
              "      <td>8832</td>\n",
              "      <td>...</td>\n",
              "      <td>NaN</td>\n",
              "      <td>NaN</td>\n",
              "      <td>NaN</td>\n",
              "      <td>NaN</td>\n",
              "      <td>NaN</td>\n",
              "      <td>NaN</td>\n",
              "      <td>NaN</td>\n",
              "      <td>NaN</td>\n",
              "      <td>NaN</td>\n",
              "      <td>NaN</td>\n",
              "    </tr>\n",
              "    <tr>\n",
              "      <th>3</th>\n",
              "      <td>2002-04-01</td>\n",
              "      <td>686971</td>\n",
              "      <td>291520</td>\n",
              "      <td>286374</td>\n",
              "      <td>286190</td>\n",
              "      <td>293</td>\n",
              "      <td>3</td>\n",
              "      <td>7866</td>\n",
              "      <td>253940</td>\n",
              "      <td>8738</td>\n",
              "      <td>...</td>\n",
              "      <td>NaN</td>\n",
              "      <td>NaN</td>\n",
              "      <td>NaN</td>\n",
              "      <td>NaN</td>\n",
              "      <td>NaN</td>\n",
              "      <td>NaN</td>\n",
              "      <td>NaN</td>\n",
              "      <td>NaN</td>\n",
              "      <td>NaN</td>\n",
              "      <td>NaN</td>\n",
              "    </tr>\n",
              "    <tr>\n",
              "      <th>4</th>\n",
              "      <td>2002-05-01</td>\n",
              "      <td>693690</td>\n",
              "      <td>294273</td>\n",
              "      <td>288783</td>\n",
              "      <td>288595</td>\n",
              "      <td>282</td>\n",
              "      <td>3</td>\n",
              "      <td>7896</td>\n",
              "      <td>255063</td>\n",
              "      <td>8656</td>\n",
              "      <td>...</td>\n",
              "      <td>NaN</td>\n",
              "      <td>NaN</td>\n",
              "      <td>NaN</td>\n",
              "      <td>NaN</td>\n",
              "      <td>NaN</td>\n",
              "      <td>NaN</td>\n",
              "      <td>NaN</td>\n",
              "      <td>NaN</td>\n",
              "      <td>NaN</td>\n",
              "      <td>NaN</td>\n",
              "    </tr>\n",
              "  </tbody>\n",
              "</table>\n",
              "<p>5 rows × 153 columns</p>\n",
              "</div>\n",
              "      <button class=\"colab-df-convert\" onclick=\"convertToInteractive('df-6aa815d2-1bee-4fc3-a3ca-7cd316d2f622')\"\n",
              "              title=\"Convert this dataframe to an interactive table.\"\n",
              "              style=\"display:none;\">\n",
              "        \n",
              "  <svg xmlns=\"http://www.w3.org/2000/svg\" height=\"24px\"viewBox=\"0 0 24 24\"\n",
              "       width=\"24px\">\n",
              "    <path d=\"M0 0h24v24H0V0z\" fill=\"none\"/>\n",
              "    <path d=\"M18.56 5.44l.94 2.06.94-2.06 2.06-.94-2.06-.94-.94-2.06-.94 2.06-2.06.94zm-11 1L8.5 8.5l.94-2.06 2.06-.94-2.06-.94L8.5 2.5l-.94 2.06-2.06.94zm10 10l.94 2.06.94-2.06 2.06-.94-2.06-.94-.94-2.06-.94 2.06-2.06.94z\"/><path d=\"M17.41 7.96l-1.37-1.37c-.4-.4-.92-.59-1.43-.59-.52 0-1.04.2-1.43.59L10.3 9.45l-7.72 7.72c-.78.78-.78 2.05 0 2.83L4 21.41c.39.39.9.59 1.41.59.51 0 1.02-.2 1.41-.59l7.78-7.78 2.81-2.81c.8-.78.8-2.07 0-2.86zM5.41 20L4 18.59l7.72-7.72 1.47 1.35L5.41 20z\"/>\n",
              "  </svg>\n",
              "      </button>\n",
              "      \n",
              "  <style>\n",
              "    .colab-df-container {\n",
              "      display:flex;\n",
              "      flex-wrap:wrap;\n",
              "      gap: 12px;\n",
              "    }\n",
              "\n",
              "    .colab-df-convert {\n",
              "      background-color: #E8F0FE;\n",
              "      border: none;\n",
              "      border-radius: 50%;\n",
              "      cursor: pointer;\n",
              "      display: none;\n",
              "      fill: #1967D2;\n",
              "      height: 32px;\n",
              "      padding: 0 0 0 0;\n",
              "      width: 32px;\n",
              "    }\n",
              "\n",
              "    .colab-df-convert:hover {\n",
              "      background-color: #E2EBFA;\n",
              "      box-shadow: 0px 1px 2px rgba(60, 64, 67, 0.3), 0px 1px 3px 1px rgba(60, 64, 67, 0.15);\n",
              "      fill: #174EA6;\n",
              "    }\n",
              "\n",
              "    [theme=dark] .colab-df-convert {\n",
              "      background-color: #3B4455;\n",
              "      fill: #D2E3FC;\n",
              "    }\n",
              "\n",
              "    [theme=dark] .colab-df-convert:hover {\n",
              "      background-color: #434B5C;\n",
              "      box-shadow: 0px 1px 3px 1px rgba(0, 0, 0, 0.15);\n",
              "      filter: drop-shadow(0px 1px 2px rgba(0, 0, 0, 0.3));\n",
              "      fill: #FFFFFF;\n",
              "    }\n",
              "  </style>\n",
              "\n",
              "      <script>\n",
              "        const buttonEl =\n",
              "          document.querySelector('#df-6aa815d2-1bee-4fc3-a3ca-7cd316d2f622 button.colab-df-convert');\n",
              "        buttonEl.style.display =\n",
              "          google.colab.kernel.accessAllowed ? 'block' : 'none';\n",
              "\n",
              "        async function convertToInteractive(key) {\n",
              "          const element = document.querySelector('#df-6aa815d2-1bee-4fc3-a3ca-7cd316d2f622');\n",
              "          const dataTable =\n",
              "            await google.colab.kernel.invokeFunction('convertToInteractive',\n",
              "                                                     [key], {});\n",
              "          if (!dataTable) return;\n",
              "\n",
              "          const docLinkHtml = 'Like what you see? Visit the ' +\n",
              "            '<a target=\"_blank\" href=https://colab.research.google.com/notebooks/data_table.ipynb>data table notebook</a>'\n",
              "            + ' to learn more about interactive tables.';\n",
              "          element.innerHTML = '';\n",
              "          dataTable['output_type'] = 'display_data';\n",
              "          await google.colab.output.renderOutput(dataTable, element);\n",
              "          const docLink = document.createElement('div');\n",
              "          docLink.innerHTML = docLinkHtml;\n",
              "          element.appendChild(docLink);\n",
              "        }\n",
              "      </script>\n",
              "    </div>\n",
              "  </div>\n",
              "  "
            ]
          },
          "metadata": {},
          "execution_count": 223
        }
      ]
    },
    {
      "cell_type": "code",
      "source": [
        "df['화물특수용도형(냉장,냉동차)']"
      ],
      "metadata": {
        "colab": {
          "base_uri": "https://localhost:8080/"
        },
        "id": "hFWTw4mXRCbt",
        "outputId": "5b1d450c-b519-45ef-ce1a-a1c834c60437"
      },
      "execution_count": null,
      "outputs": [
        {
          "output_type": "execute_result",
          "data": {
            "text/plain": [
              "0          NaN\n",
              "1          NaN\n",
              "2          NaN\n",
              "3          NaN\n",
              "4          NaN\n",
              "        ...   \n",
              "243    22192.0\n",
              "244    22415.0\n",
              "245    22659.0\n",
              "246    22807.0\n",
              "247    22868.0\n",
              "Name: 화물특수용도형(냉장,냉동차), Length: 248, dtype: float64"
            ]
          },
          "metadata": {},
          "execution_count": 224
        }
      ]
    },
    {
      "cell_type": "code",
      "source": [
        "df['화물특수용도형(냉장, 냉동차)']"
      ],
      "metadata": {
        "colab": {
          "base_uri": "https://localhost:8080/"
        },
        "id": "4ZVzX6LYRmA7",
        "outputId": "27265fe1-a765-4558-c909-005967727cae"
      },
      "execution_count": null,
      "outputs": [
        {
          "output_type": "execute_result",
          "data": {
            "text/plain": [
              "0      4584.0\n",
              "1      4563.0\n",
              "2      4556.0\n",
              "3      4528.0\n",
              "4      4547.0\n",
              "        ...  \n",
              "243       NaN\n",
              "244       NaN\n",
              "245       NaN\n",
              "246       NaN\n",
              "247       NaN\n",
              "Name: 화물특수용도형(냉장, 냉동차), Length: 248, dtype: float64"
            ]
          },
          "metadata": {},
          "execution_count": 225
        }
      ]
    },
    {
      "cell_type": "code",
      "source": [
        "a=pd.concat([df['화물특수용도형(냉장, 냉동차)'],df['화물특수용도형(냉장,냉동차)']],axis =0)"
      ],
      "metadata": {
        "id": "A2lVHpcHRnkK"
      },
      "execution_count": null,
      "outputs": []
    },
    {
      "cell_type": "code",
      "source": [
        "a=a.dropna()"
      ],
      "metadata": {
        "id": "nZXaO9RMSBK1"
      },
      "execution_count": null,
      "outputs": []
    },
    {
      "cell_type": "code",
      "source": [
        "df['화물특수용도형(냉장, 냉동차)']"
      ],
      "metadata": {
        "colab": {
          "base_uri": "https://localhost:8080/"
        },
        "id": "3_Hp5Bq3m1RR",
        "outputId": "519f3283-c6ba-437e-8e65-3eb1d922aeb1"
      },
      "execution_count": null,
      "outputs": [
        {
          "output_type": "execute_result",
          "data": {
            "text/plain": [
              "0      4584.0\n",
              "1      4563.0\n",
              "2      4556.0\n",
              "3      4528.0\n",
              "4      4547.0\n",
              "        ...  \n",
              "243       NaN\n",
              "244       NaN\n",
              "245       NaN\n",
              "246       NaN\n",
              "247       NaN\n",
              "Name: 화물특수용도형(냉장, 냉동차), Length: 248, dtype: float64"
            ]
          },
          "metadata": {},
          "execution_count": 228
        }
      ]
    },
    {
      "cell_type": "code",
      "source": [
        "df.drop(['화물특수용도형(냉장, 냉동차)','화물특수용도형(냉장,냉동차)'],axis=1,inplace=True)"
      ],
      "metadata": {
        "id": "t9xtyG-SlxHB"
      },
      "execution_count": null,
      "outputs": []
    },
    {
      "cell_type": "code",
      "source": [
        "a=a.values.tolist()"
      ],
      "metadata": {
        "id": "XfZxnIqjorl5"
      },
      "execution_count": null,
      "outputs": []
    },
    {
      "cell_type": "code",
      "source": [
        "len(a)"
      ],
      "metadata": {
        "colab": {
          "base_uri": "https://localhost:8080/"
        },
        "id": "EY7CCJ7Zo6hR",
        "outputId": "ea06dfb6-7514-41f3-b89b-194468d8bdca"
      },
      "execution_count": null,
      "outputs": [
        {
          "output_type": "execute_result",
          "data": {
            "text/plain": [
              "248"
            ]
          },
          "metadata": {},
          "execution_count": 231
        }
      ]
    },
    {
      "cell_type": "code",
      "source": [
        "# 열추가\n",
        "\n",
        "df['화물특수용도형(냉장,냉동차)']=a"
      ],
      "metadata": {
        "id": "zZ6umzLhnDUK"
      },
      "execution_count": null,
      "outputs": []
    },
    {
      "cell_type": "code",
      "source": [
        "#확인\n",
        "df['화물특수용도형(냉장,냉동차)']"
      ],
      "metadata": {
        "colab": {
          "base_uri": "https://localhost:8080/"
        },
        "id": "rbXVOGfRiwfP",
        "outputId": "4f3fbad5-e8ee-4803-bd6f-0cacdf334ad3"
      },
      "execution_count": null,
      "outputs": [
        {
          "output_type": "execute_result",
          "data": {
            "text/plain": [
              "0       4584.0\n",
              "1       4563.0\n",
              "2       4556.0\n",
              "3       4528.0\n",
              "4       4547.0\n",
              "        ...   \n",
              "243    22192.0\n",
              "244    22415.0\n",
              "245    22659.0\n",
              "246    22807.0\n",
              "247    22868.0\n",
              "Name: 화물특수용도형(냉장,냉동차), Length: 248, dtype: float64"
            ]
          },
          "metadata": {},
          "execution_count": 233
        }
      ]
    },
    {
      "cell_type": "code",
      "source": [
        "# 다른 중복열도 다 변환 \n",
        "\n",
        "a=pd.concat([df['화물특수용도형(곡물, 사료운반)'],df['화물특수용도형(곡물,사료운반)']],axis =0)\n",
        "a=a.dropna()\n",
        "df.drop(['화물특수용도형(곡물, 사료운반)','화물특수용도형(곡물,사료운반)'],axis=1,inplace=True)\n",
        "a=a.values.tolist()\n",
        "\n",
        "df['화물특수용도형(곡물,사료운반)']=a\n",
        "\n"
      ],
      "metadata": {
        "id": "aPmAiqATSYHs"
      },
      "execution_count": null,
      "outputs": []
    },
    {
      "cell_type": "code",
      "source": [
        "#확인\n",
        "df['화물특수용도형(곡물,사료운반)']"
      ],
      "metadata": {
        "colab": {
          "base_uri": "https://localhost:8080/"
        },
        "id": "BzJ_JRE_ShrB",
        "outputId": "3b0902d8-2504-4e1c-e1ea-11ea25e5a46c"
      },
      "execution_count": null,
      "outputs": [
        {
          "output_type": "execute_result",
          "data": {
            "text/plain": [
              "0       995.0\n",
              "1       991.0\n",
              "2       988.0\n",
              "3       988.0\n",
              "4       989.0\n",
              "        ...  \n",
              "243    1617.0\n",
              "244    1619.0\n",
              "245    1626.0\n",
              "246    1629.0\n",
              "247    1633.0\n",
              "Name: 화물특수용도형(곡물,사료운반), Length: 248, dtype: float64"
            ]
          },
          "metadata": {},
          "execution_count": 235
        }
      ]
    },
    {
      "cell_type": "code",
      "source": [
        "# 다른 중복열도 다 변환 \n",
        "\n",
        "a=pd.concat([df['특수작업형(피견인형)'],df['특수용도형(피견인형)']],axis =0)\n",
        "a=a.dropna()\n",
        "df.drop(['특수작업형(피견인형)','특수용도형(피견인형)'],axis=1,inplace=True)\n",
        "a=a.values.tolist()\n",
        "b=[0,0,0,0,0,0,0,0,0,0,0,0,0,0,0,0,0,0,0,0,0,0,0,0,0,0,0,0,0,0,0,0,0,0,0,0,0,0,0,0,0,0,0,0,0]\n",
        "a= b+a\n",
        "df['특수용도형(피견인형)']=a\n"
      ],
      "metadata": {
        "id": "fq3FJDNop_yt"
      },
      "execution_count": null,
      "outputs": []
    },
    {
      "cell_type": "code",
      "source": [
        "df['특수용도형(피견인형)']"
      ],
      "metadata": {
        "colab": {
          "base_uri": "https://localhost:8080/"
        },
        "id": "KnFMBICNrheU",
        "outputId": "07d0b63c-67aa-4078-d67d-13f01c292190"
      },
      "execution_count": null,
      "outputs": [
        {
          "output_type": "execute_result",
          "data": {
            "text/plain": [
              "0       0.0\n",
              "1       0.0\n",
              "2       0.0\n",
              "3       0.0\n",
              "4       0.0\n",
              "       ... \n",
              "243     9.0\n",
              "244     9.0\n",
              "245    10.0\n",
              "246    10.0\n",
              "247    10.0\n",
              "Name: 특수용도형(피견인형), Length: 248, dtype: float64"
            ]
          },
          "metadata": {},
          "execution_count": 237
        }
      ]
    },
    {
      "cell_type": "code",
      "source": [
        "a=pd.concat([df['특수작업형 계'],df['특수용도형 계']],axis =0)\n",
        "a=a.dropna()\n",
        "df.drop(['특수작업형 계','특수용도형 계'],axis=1,inplace=True)\n",
        "a=a.values.tolist()\n",
        "\n",
        "df['특수용도형 계']=a"
      ],
      "metadata": {
        "id": "r4nHWhagrh9m"
      },
      "execution_count": null,
      "outputs": []
    },
    {
      "cell_type": "code",
      "source": [
        "df['특수용도형 계']"
      ],
      "metadata": {
        "colab": {
          "base_uri": "https://localhost:8080/"
        },
        "id": "VMFUlRgmwb97",
        "outputId": "db78dbd7-59f9-49f3-b99f-b1786e2ebcfe"
      },
      "execution_count": null,
      "outputs": [
        {
          "output_type": "execute_result",
          "data": {
            "text/plain": [
              "0       1445.0\n",
              "1       1398.0\n",
              "2       1386.0\n",
              "3       1360.0\n",
              "4       1342.0\n",
              "        ...   \n",
              "243    23705.0\n",
              "244    23812.0\n",
              "245    23895.0\n",
              "246    24034.0\n",
              "247    24100.0\n",
              "Name: 특수용도형 계, Length: 248, dtype: float64"
            ]
          },
          "metadata": {},
          "execution_count": 239
        }
      ]
    },
    {
      "cell_type": "code",
      "source": [
        "a=pd.concat([df['특수작업형(고소작업차)'],df['특수용도형(고소작업차)']],axis =0)\n",
        "a=a.dropna()\n",
        "df.drop(['특수작업형(고소작업차)','특수용도형(고소작업차)'],axis=1,inplace=True)\n",
        "a=a.values.tolist()\n",
        "\n",
        "df['특수용도형(고소작업차)']=a"
      ],
      "metadata": {
        "id": "9t3MPgQwwcn9"
      },
      "execution_count": null,
      "outputs": []
    },
    {
      "cell_type": "code",
      "source": [
        "df['특수용도형(고소작업차)']"
      ],
      "metadata": {
        "colab": {
          "base_uri": "https://localhost:8080/"
        },
        "id": "RMVNWuzpwvCx",
        "outputId": "6c7e37b5-e4a2-4f9d-ce74-198077c42064"
      },
      "execution_count": null,
      "outputs": [
        {
          "output_type": "execute_result",
          "data": {
            "text/plain": [
              "0         12.0\n",
              "1         13.0\n",
              "2         14.0\n",
              "3         13.0\n",
              "4         13.0\n",
              "        ...   \n",
              "243    13132.0\n",
              "244    13223.0\n",
              "245    13298.0\n",
              "246    13404.0\n",
              "247    13453.0\n",
              "Name: 특수용도형(고소작업차), Length: 248, dtype: float64"
            ]
          },
          "metadata": {},
          "execution_count": 241
        }
      ]
    },
    {
      "cell_type": "code",
      "source": [
        "a=pd.concat([df['특수작업형(고가사다리소방차)'],df['특수용도형(고가사다리소방차)']],axis =0)\n",
        "a=a.dropna()\n",
        "df.drop(['특수작업형(고가사다리소방차)','특수용도형(고가사다리소방차)'],axis=1,inplace=True)\n",
        "a=a.values.tolist()\n",
        "\n",
        "df['특수작업형(고가사다리소방차)']=a"
      ],
      "metadata": {
        "id": "dGAHGgimwwvM"
      },
      "execution_count": null,
      "outputs": []
    },
    {
      "cell_type": "code",
      "source": [
        "df['특수작업형(고가사다리소방차)']"
      ],
      "metadata": {
        "colab": {
          "base_uri": "https://localhost:8080/"
        },
        "id": "TK1Ea_Lzyo0r",
        "outputId": "7a91e102-ff88-4495-df5c-33eea20d3f83"
      },
      "execution_count": null,
      "outputs": [
        {
          "output_type": "execute_result",
          "data": {
            "text/plain": [
              "0        0.0\n",
              "1        0.0\n",
              "2        0.0\n",
              "3        0.0\n",
              "4        0.0\n",
              "       ...  \n",
              "243    481.0\n",
              "244    479.0\n",
              "245    474.0\n",
              "246    474.0\n",
              "247    474.0\n",
              "Name: 특수작업형(고가사다리소방차), Length: 248, dtype: float64"
            ]
          },
          "metadata": {},
          "execution_count": 243
        }
      ]
    },
    {
      "cell_type": "code",
      "source": [
        "a=pd.concat([df['특수작업형(오가크레인)'],df['특수용도형(오가크레인)']],axis =0)\n",
        "a=a.dropna()\n",
        "df.drop(['특수작업형(오가크레인)','특수용도형(오가크레인)'],axis=1,inplace=True)\n",
        "a=a.values.tolist()\n",
        "\n",
        "df['특수작업형(오가크레인)']=a"
      ],
      "metadata": {
        "id": "eX-3L_E7yvfP"
      },
      "execution_count": null,
      "outputs": []
    },
    {
      "cell_type": "code",
      "source": [
        "df['특수작업형(오가크레인)']"
      ],
      "metadata": {
        "colab": {
          "base_uri": "https://localhost:8080/"
        },
        "id": "_A-sTSmvyvZm",
        "outputId": "f0883803-4578-452f-f1f0-7455e4b131e4"
      },
      "execution_count": null,
      "outputs": [
        {
          "output_type": "execute_result",
          "data": {
            "text/plain": [
              "0      0.0\n",
              "1      0.0\n",
              "2      0.0\n",
              "3      0.0\n",
              "4      0.0\n",
              "      ... \n",
              "243    1.0\n",
              "244    1.0\n",
              "245    1.0\n",
              "246    1.0\n",
              "247    1.0\n",
              "Name: 특수작업형(오가크레인), Length: 248, dtype: float64"
            ]
          },
          "metadata": {},
          "execution_count": 245
        }
      ]
    },
    {
      "cell_type": "code",
      "source": [
        "a=pd.concat([df['특수작업형(기타)'],df['특수용도형(기타)']],axis =0)\n",
        "a=a.dropna()\n",
        "df.drop(['특수작업형(기타)','특수용도형(기타)'],axis=1,inplace=True)\n",
        "a=a.values.tolist()\n",
        "\n",
        "df['특수작업형(기타)']=a"
      ],
      "metadata": {
        "id": "tnRSAm4ayvVc"
      },
      "execution_count": null,
      "outputs": []
    },
    {
      "cell_type": "code",
      "source": [
        "df['특수작업형(기타)']"
      ],
      "metadata": {
        "colab": {
          "base_uri": "https://localhost:8080/"
        },
        "id": "YdPvZEidyvNv",
        "outputId": "62b1fc0f-8fe9-4d7c-fa02-850e6b858c90"
      },
      "execution_count": null,
      "outputs": [
        {
          "output_type": "execute_result",
          "data": {
            "text/plain": [
              "0       1433.0\n",
              "1       1385.0\n",
              "2       1372.0\n",
              "3       1347.0\n",
              "4       1329.0\n",
              "        ...   \n",
              "243    10082.0\n",
              "244    10100.0\n",
              "245    10112.0\n",
              "246    10145.0\n",
              "247    10162.0\n",
              "Name: 특수작업형(기타), Length: 248, dtype: float64"
            ]
          },
          "metadata": {},
          "execution_count": 247
        }
      ]
    },
    {
      "cell_type": "code",
      "source": [
        "a=pd.concat([df['화물특수용도형(노면청소자)'],df['화물특수용도형(노면청소차)']],axis =0)\n",
        "a=a.dropna()\n",
        "df.drop(['화물특수용도형(노면청소자)','화물특수용도형(노면청소차)'],axis=1,inplace=True)\n",
        "a=a.values.tolist()\n",
        "\n",
        "df['화물특수용도형(노면청소차)']=a"
      ],
      "metadata": {
        "id": "9jaZdgZXzK2n"
      },
      "execution_count": null,
      "outputs": []
    },
    {
      "cell_type": "code",
      "source": [
        "df['화물특수용도형(노면청소차)']"
      ],
      "metadata": {
        "colab": {
          "base_uri": "https://localhost:8080/"
        },
        "id": "i0hOUOkBzVoh",
        "outputId": "adfb56a7-b5a7-4ef9-e802-3cff64609818"
      },
      "execution_count": null,
      "outputs": [
        {
          "output_type": "execute_result",
          "data": {
            "text/plain": [
              "0        1.0\n",
              "1        1.0\n",
              "2        1.0\n",
              "3        1.0\n",
              "4        1.0\n",
              "       ...  \n",
              "243    155.0\n",
              "244    153.0\n",
              "245    154.0\n",
              "246    155.0\n",
              "247    157.0\n",
              "Name: 화물특수용도형(노면청소차), Length: 248, dtype: float64"
            ]
          },
          "metadata": {},
          "execution_count": 249
        }
      ]
    },
    {
      "cell_type": "code",
      "source": [
        "from zmq.constants import NULL\n",
        "a=pd.concat([df['화물특수용도형(청소자)'],df['화물특수용도형(청소차)']],axis =0)\n",
        "\n",
        "a[92]=NULL\n",
        "a=a.dropna()\n",
        "df.drop(['화물특수용도형(청소자)','화물특수용도형(청소차)'],axis=1,inplace=True)\n",
        "a=a.values.tolist()\n",
        "\n",
        "df['화물특수용도형(청소차)']=a"
      ],
      "metadata": {
        "id": "U8_sBkuazY1Z"
      },
      "execution_count": null,
      "outputs": []
    },
    {
      "cell_type": "code",
      "source": [
        "len(a)"
      ],
      "metadata": {
        "colab": {
          "base_uri": "https://localhost:8080/"
        },
        "id": "zDIOdwBBzot2",
        "outputId": "493a3e42-fd32-4c52-c89a-983b230d634b"
      },
      "execution_count": null,
      "outputs": [
        {
          "output_type": "execute_result",
          "data": {
            "text/plain": [
              "248"
            ]
          },
          "metadata": {},
          "execution_count": 251
        }
      ]
    },
    {
      "cell_type": "code",
      "source": [
        "df['화물특수용도형(청소차)']"
      ],
      "metadata": {
        "colab": {
          "base_uri": "https://localhost:8080/"
        },
        "id": "yOGHL4PEzpd2",
        "outputId": "10e0e93b-3ed3-4ab4-ee52-88302884a088"
      },
      "execution_count": null,
      "outputs": [
        {
          "output_type": "execute_result",
          "data": {
            "text/plain": [
              "0       250.0\n",
              "1       261.0\n",
              "2       276.0\n",
              "3       285.0\n",
              "4       292.0\n",
              "        ...  \n",
              "243    1355.0\n",
              "244    1360.0\n",
              "245    1367.0\n",
              "246    1368.0\n",
              "247    1360.0\n",
              "Name: 화물특수용도형(청소차), Length: 248, dtype: float64"
            ]
          },
          "metadata": {},
          "execution_count": 252
        }
      ]
    },
    {
      "cell_type": "code",
      "source": [
        "#전처리 확인\n",
        "df.columns"
      ],
      "metadata": {
        "colab": {
          "base_uri": "https://localhost:8080/"
        },
        "id": "zqFxO8ns05KZ",
        "outputId": "5b1ae116-7b76-4635-e649-e6055d830b17"
      },
      "execution_count": null,
      "outputs": [
        {
          "output_type": "execute_result",
          "data": {
            "text/plain": [
              "Index(['날짜', '총계', '승용차합계', '승용일반형 계', '승용일반형 국산 소계', '승용일반형 국산 800CC미만',\n",
              "       '승용일반형 국산 1000CC미만', '승용일반형 국산 1500CC미만', '승용일반형 국산 2000CC미만',\n",
              "       '승용일반형 국산 2500CC미만',\n",
              "       ...\n",
              "       '화물특수용도형(냉장,냉동차)', '화물특수용도형(곡물,사료운반)', '특수용도형(피견인형)', '특수용도형 계',\n",
              "       '특수용도형(고소작업차)', '특수작업형(고가사다리소방차)', '특수작업형(오가크레인)', '특수작업형(기타)',\n",
              "       '화물특수용도형(노면청소차)', '화물특수용도형(청소차)'],\n",
              "      dtype='object', length=143)"
            ]
          },
          "metadata": {},
          "execution_count": 253
        }
      ]
    },
    {
      "cell_type": "code",
      "source": [
        "df=df.fillna(0)"
      ],
      "metadata": {
        "id": "6F_y81if1ocr"
      },
      "execution_count": null,
      "outputs": []
    },
    {
      "cell_type": "code",
      "source": [
        "#결측치 확인\n",
        "df.isnull().sum()"
      ],
      "metadata": {
        "colab": {
          "base_uri": "https://localhost:8080/"
        },
        "id": "ingMlPGa1rcg",
        "outputId": "277a0a5b-c23f-4563-d936-f663c16c0cdf"
      },
      "execution_count": null,
      "outputs": [
        {
          "output_type": "execute_result",
          "data": {
            "text/plain": [
              "날짜                 0\n",
              "총계                 0\n",
              "승용차합계              0\n",
              "승용일반형 계            0\n",
              "승용일반형 국산 소계        0\n",
              "                  ..\n",
              "특수작업형(고가사다리소방차)    0\n",
              "특수작업형(오가크레인)       0\n",
              "특수작업형(기타)          0\n",
              "화물특수용도형(노면청소차)     0\n",
              "화물특수용도형(청소차)       0\n",
              "Length: 143, dtype: int64"
            ]
          },
          "metadata": {},
          "execution_count": 261
        }
      ]
    },
    {
      "cell_type": "code",
      "source": [
        "df['견인차 10톤 이하']"
      ],
      "metadata": {
        "colab": {
          "base_uri": "https://localhost:8080/"
        },
        "id": "TKIOxve53EF1",
        "outputId": "5c81200a-b4a8-446d-acd9-5da4c1b70dfe"
      },
      "execution_count": null,
      "outputs": [
        {
          "output_type": "execute_result",
          "data": {
            "text/plain": [
              "0      508.0\n",
              "1      504.0\n",
              "2      498.0\n",
              "3      497.0\n",
              "4      499.0\n",
              "       ...  \n",
              "243      0.0\n",
              "244      0.0\n",
              "245      0.0\n",
              "246      0.0\n",
              "247      0.0\n",
              "Name: 견인차 10톤 이하, Length: 248, dtype: float64"
            ]
          },
          "metadata": {},
          "execution_count": 262
        }
      ]
    },
    {
      "cell_type": "code",
      "source": [
        "df.to_csv(r'영업용화물차량등록현황_전처리_1.csv')"
      ],
      "metadata": {
        "id": "in3ISE6_1K53"
      },
      "execution_count": null,
      "outputs": []
    }
  ]
}